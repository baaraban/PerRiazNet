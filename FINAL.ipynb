{
 "cells": [
  {
   "cell_type": "code",
   "execution_count": 1,
   "metadata": {
    "colab": {
     "autoexec": {
      "startup": false,
      "wait_interval": 0
     }
    },
    "colab_type": "code",
    "id": "Nr9_Q2cTI4ki"
   },
   "outputs": [],
   "source": [
    "%matplotlib inline\n",
    "import matplotlib.pyplot as plt\n",
    "import pandas\n",
    "import numpy as np\n",
    "from sklearn.model_selection import train_test_split\n",
    "from sklearn.metrics import log_loss"
   ]
  },
  {
   "cell_type": "code",
   "execution_count": null,
   "metadata": {},
   "outputs": [],
   "source": [
    "url = \"https://archive.ics.uci.edu/ml/machine-learning-databases/abalone/abalone.data\"\n",
    "dataframe = pandas.read_csv(url, header=-1)"
   ]
  },
  {
   "cell_type": "code",
   "execution_count": 2,
   "metadata": {
    "colab": {
     "autoexec": {
      "startup": false,
      "wait_interval": 0
     }
    },
    "colab_type": "code",
    "id": "kxDykLVxTfZ7"
   },
   "outputs": [],
   "source": [
    "#ONE-HOT ENCODING\n",
    "dumm = pandas.get_dummies(dataframe, prefix=None, prefix_sep='_', dummy_na=False, columns=[0,8], sparse=False, drop_first=False)\n",
    "\n",
    "y = dumm.as_matrix(columns=dumm.columns[-28:])\n",
    "X = dumm.as_matrix(columns=dumm.columns[:-28])\n",
    "\n",
    "X_train, X_test, y_train, y_test = train_test_split(X, y, test_size=0.33, random_state=42)"
   ]
  },
  {
   "cell_type": "code",
   "execution_count": 3,
   "metadata": {
    "colab": {
     "autoexec": {
      "startup": false,
      "wait_interval": 0
     }
    },
    "colab_type": "code",
    "id": "LEkxzzeuTj5g"
   },
   "outputs": [],
   "source": [
    "#ONE-HOT ENCODING\n",
    "dumm = pandas.get_dummies(dataframe, \n",
    "                          prefix=None, \n",
    "                          prefix_sep='_', \n",
    "                          dummy_na=False, \n",
    "                          columns=[0,8], \n",
    "                          sparse=False, \n",
    "                          drop_first=False)\n",
    "\n",
    "y = dumm.as_matrix(columns=dumm.columns[-28:])\n",
    "X = dumm.as_matrix(columns=dumm.columns[:-28])\n",
    "\n",
    "X_train, X_test, y_train, y_test = train_test_split(X, y, test_size=0.33, random_state=42)    "
   ]
  },
  {
   "cell_type": "code",
   "execution_count": null,
   "metadata": {},
   "outputs": [],
   "source": [
    "# FUNCTIONS FOR FORWARD PASS\n",
    "def ReLU(x):\n",
    "    return x*(x > 0)\n",
    "\n",
    "\n",
    "def softmax(x):\n",
    "    e_x = np.exp(x - np.max(x))\n",
    "    return e_x / e_x.sum(axis=0)\n",
    "\n",
    "\n",
    "# FUNCTIONS FOR BACKPROP\n",
    "def differentiate_ReLU(x):\n",
    "    x[x <= 0] = 0\n",
    "    x[x > 0] = 1\n",
    "    return x\n",
    "\n",
    "def differentiate_tanh(a_1):\n",
    "    return 1 - np.tanh(a_1)**2"
   ]
  },
  {
   "cell_type": "code",
   "execution_count": null,
   "metadata": {},
   "outputs": [],
   "source": [
    "class NeuralNetwork:\n",
    "    def __init__(self, neurons_first, neurons_second, x, y):\n",
    "        np.random.seed(4)\n",
    "        \n",
    "        self.W_1 = np.random.rand(neurons_first,x.shape[1]).astype(np.float32) * np.sqrt(2.0/(neurons_first))\n",
    "        self.W_2 = np.random.rand(neurons_second,neurons_first).astype(np.float32) * np.sqrt(2.0/(neurons_second))\n",
    "        self.W_out = np.random.rand(y.shape[1],neurons_second).astype(np.float32) * np.sqrt(2.0/(y.shape[1]))\n",
    "        self.W_ResNet = np.random.rand(y.shape[1],x.shape[1]) * np.sqrt(2.0/(y.shape[1]))\n",
    "        \n",
    "        self.b_1 = np.zeros((neurons_first,1)).astype(np.float32)\n",
    "        self.b_2 = np.zeros((neurons_second,1)).astype(np.float32)\n",
    "        self.b_out = np.zeros((y.shape[1],1)).astype(np.float32)\n",
    "        \n",
    "            \n",
    "\n",
    "def feedforward(network, x, y):\n",
    "        forward_path = dict()\n",
    "        \n",
    "        forward_path['x'] = x.T\n",
    "        forward_path['y'] = y.T\n",
    "        \n",
    "        forward_path['a_1'] = np.add(network.W_1.dot(forward_path['x']), network.b_1)\n",
    "        forward_path['z_1'] = np.tanh(forward_path['a_1'])\n",
    "        forward_path['a_2'] = np.add(network.W_2.dot(forward_path['z_1']), network.b_2)\n",
    "        forward_path['z_2'] = ReLU(forward_path['a_2'])\n",
    "        forward_path['a_out_1'] = network.W_out.dot(forward_path['z_2'])\n",
    "        forward_path['a_out_2'] = network.W_ResNet.dot(forward_path['x'])\n",
    "        forward_path['a_out'] = np.add(np.add(forward_path['a_out_1'], forward_path['a_out_2']), network.b_out)\n",
    "        forward_path['z_out'] = softmax(forward_path['a_out'])\n",
    "        \n",
    "        return forward_path\n",
    "        \n",
    "        \n",
    "def backward_path(network, forward_path, learning_rate):\n",
    "        gradient = dict()\n",
    "        \n",
    "        derivative_of_tanh = differentiate_tanh(forward_path['a_1'])\n",
    "        derivative_of_ReLU = differentiate_ReLU(forward_path['a_2'])\n",
    " \n",
    "        # application of the chain rule to find derivative of the loss function with respect to weights2 and weights1\n",
    "        delta_out = forward_path['y'] - forward_path['z_out'] \n",
    "        \n",
    "        first_mul = network.W_out.T.dot(delta_out)\n",
    "        delta_2 = np.multiply(derivative_of_ReLU, first_mul)\n",
    "        delta_1 = np.multiply(derivative_of_tanh, network.W_2.T.dot(delta_2))\n",
    "            \n",
    "        dW_ResNet = delta_out.dot(forward_path['x'].T)\n",
    "        dW_out = delta_out.dot(forward_path['z_2'].T)\n",
    "        dW_2 = delta_2.dot(forward_path['z_1'].T)\n",
    "        dW_1 = delta_1.dot(forward_path['x'].T)\n",
    "        \n",
    "        network.W_1 += learning_rate *  dW_1\n",
    "        network.W_2 += learning_rate * dW_2\n",
    "        network.W_out += learning_rate * dW_out\n",
    "        network.W_ResNet += learning_rate * dW_ResNet\n",
    "        \n",
    "        network.b_1 += learning_rate * np.expand_dims(np.mean(delta_1, axis=1), axis=1)\n",
    "        network.b_2 += learning_rate * np.expand_dims(np.mean(delta_2, axis=1), axis=1)\n",
    "        network.b_out += learning_rate * np.expand_dims(np.mean(delta_out, axis=1), axis=1)\n",
    "\n",
    "        \n",
    "def train(epochs, batch_size, learning_rate, nn):\n",
    "#     X_train, X_test, y_train, y_test\n",
    "    \n",
    "    evaluation = dict()\n",
    "    evaluation['batch_size'] = \"batch size: {}\".format(batch_size)\n",
    "    evaluation['learning_rate'] = \"learning rate: {}\".format(learning_rate)\n",
    "    evaluation['epoch'] = []\n",
    "    evaluation['log_loss'] = []\n",
    "    evaluation['accuracy'] = []\n",
    "    \n",
    "    for epoch in range(epochs):\n",
    "        evaluation['epoch'].append(epoch)\n",
    "        current = 0\n",
    "        for i in range(len(X_train)//batch_size):\n",
    "            forward_path = feedforward(nn, X_train[current:current+batch_size], y_train[current:current+batch_size])\n",
    "            backward_path(nn, forward_path, learning_rate)\n",
    "            current += batch_size\n",
    "            \n",
    "        if(len(X_train)%batch_size != 0):\n",
    "            k = len(X_train)%batch_size\n",
    "     \n",
    "            forward_path = feedforward(nn, X_train[-k:], y_train[-k:])\n",
    "            backward_path(nn, forward_path, learning_rate)\n",
    "           \n",
    "        forward_path = feedforward(nn, X_test, y_test)\n",
    "        evaluation['log_loss'].append(log_loss(y_test, forward_path['z_out'].T))\n",
    "        evaluation['accuracy'].append(getAccuracy(forward_path['z_out'].T,y_test))\n",
    "      \n",
    "    return evaluation\n",
    "\n",
    "\n",
    "def getAccuracy (output,y):\n",
    "    prede = np.argmax(output,axis=0)\n",
    "    real = np.argmax(y,axis=0)\n",
    "    accuracy = sum(prede == real)/(float(len(y)))\n",
    "    return accuracy\n",
    "\n",
    "\n",
    "def evaluate_model(epochs):\n",
    "    nn = NeuralNetwork(32, 32, X_train, y_train)\n",
    "    batches = [20,30,40,60]\n",
    "    learning_rates = [0.0001,0.001,0.005,0.002]\n",
    "    \n",
    "    results = dict()\n",
    "    \n",
    "    results['batches'] = []\n",
    "    results['rates'] = []\n",
    "    \n",
    "    for batch in batches:\n",
    "        results['batches'].append(train(epochs, batch, 0.01, nn))\n",
    "        \n",
    "    for rate in learning_rates:\n",
    "        results['rates'].append(train(epochs, 40, rate, nn))\n",
    "        \n",
    "    return results"
   ]
  },
  {
   "cell_type": "code",
   "execution_count": 4,
   "metadata": {
    "colab": {
     "autoexec": {
      "startup": false,
      "wait_interval": 0
     }
    },
    "colab_type": "code",
    "id": "ayppl8ppqv4v"
   },
   "outputs": [],
   "source": [
    "results = evaluate_model(10)"
   ]
  },
  {
   "cell_type": "code",
   "execution_count": 5,
   "metadata": {
    "colab": {
     "autoexec": {
      "startup": false,
      "wait_interval": 0
     },
     "base_uri": "https://localhost:8080/",
     "height": 280
    },
    "colab_type": "code",
    "executionInfo": {
     "elapsed": 1487,
     "status": "ok",
     "timestamp": 1531119189828,
     "user": {
      "displayName": "Roman Riazantsev",
      "photoUrl": "//lh6.googleusercontent.com/-0kCcRWpuTEA/AAAAAAAAAAI/AAAAAAAAUeA/dAv5nJYJPL8/s50-c-k-no/photo.jpg",
      "userId": "118315922036022511446"
     },
     "user_tz": -180
    },
    "id": "AIJRFvcwkvTY",
    "outputId": "7c941b89-e293-42d6-d111-4d0ac8c16448"
   },
   "outputs": [
    {
     "data": {
      "image/png": "[encoded data removed]",
      "text/plain": [
       "<Figure size 432x288 with 1 Axes>"
      ]
     },
     "metadata": {},
     "output_type": "display_data"
    }
   ],
   "source": [
    "experiments_with_batch = results['batches']\n",
    "        \n",
    "fig = plt.figure()\n",
    "ax = plt.axes()\n",
    "\n",
    "for experiment in experiments_with_batch:\n",
    "     ax.plot(experiment['epoch'], experiment['log_loss'], label=experiment['batch_size']);\n",
    "\n",
    "plt.ylabel('log loss')\n",
    "plt.xlabel('epoch')\n",
    "plt.legend()\n",
    "plt.show()"
   ]
  },
  {
   "cell_type": "code",
   "execution_count": 6,
   "metadata": {
    "colab": {
     "autoexec": {
      "startup": false,
      "wait_interval": 0
     },
     "base_uri": "https://localhost:8080/",
     "height": 282
    },
    "colab_type": "code",
    "executionInfo": {
     "elapsed": 833,
     "status": "ok",
     "timestamp": 1531119190804,
     "user": {
      "displayName": "Roman Riazantsev",
      "photoUrl": "//lh6.googleusercontent.com/-0kCcRWpuTEA/AAAAAAAAAAI/AAAAAAAAUeA/dAv5nJYJPL8/s50-c-k-no/photo.jpg",
      "userId": "118315922036022511446"
     },
     "user_tz": -180
    },
    "id": "C3LGCDW0oeMc",
    "outputId": "fed91209-8b91-4408-d6f9-13aba3a63d50"
   },
   "outputs": [
    {
     "data": {
      "image/png": "[encoded data removed]",
      "text/plain": [
       "<Figure size 432x288 with 1 Axes>"
      ]
     },
     "metadata": {},
     "output_type": "display_data"
    }
   ],
   "source": [
    "experiments_with_rates = results['rates']\n",
    "        \n",
    "fig = plt.figure()\n",
    "ax = plt.axes()\n",
    "\n",
    "for experiment in experiments_with_rates:\n",
    "    ax.plot(experiment['epoch'], experiment['log_loss'], label=experiment['learning_rate']);\n",
    "\n",
    "plt.ylabel('log loss')\n",
    "plt.xlabel('epoch')\n",
    "plt.legend()\n",
    "plt.show()"
   ]
  },
  {
   "cell_type": "code",
   "execution_count": 7,
   "metadata": {
    "colab": {
     "autoexec": {
      "startup": false,
      "wait_interval": 0
     },
     "base_uri": "https://localhost:8080/",
     "height": 279
    },
    "colab_type": "code",
    "executionInfo": {
     "elapsed": 1091,
     "status": "ok",
     "timestamp": 1531119192019,
     "user": {
      "displayName": "Roman Riazantsev",
      "photoUrl": "//lh6.googleusercontent.com/-0kCcRWpuTEA/AAAAAAAAAAI/AAAAAAAAUeA/dAv5nJYJPL8/s50-c-k-no/photo.jpg",
      "userId": "118315922036022511446"
     },
     "user_tz": -180
    },
    "id": "rDpTynCnyIu7",
    "outputId": "b583eed7-68d3-4ef2-8fa3-1c8b75218917"
   },
   "outputs": [
    {
     "data": {
      "image/png": "[encoded data removed]",
      "text/plain": [
       "<matplotlib.figure.Figure at 0x7fb4ac8913c8>"
      ]
     },
     "metadata": {
      "tags": []
     },
     "output_type": "display_data"
    }
   ],
   "source": [
    "experiments_with_batch = results['batches']\n",
    "        \n",
    "fig = plt.figure()\n",
    "ax = plt.axes()\n",
    "\n",
    "for experiment in experiments_with_batch:\n",
    "     ax.plot(experiment['epoch'], experiment['accuracy'], label=experiment['batch_size']);\n",
    "\n",
    "plt.ylabel('accuracy')\n",
    "plt.xlabel('epoch')\n",
    "plt.legend()\n",
    "plt.show()\n"
   ]
  },
  {
   "cell_type": "code",
   "execution_count": 8,
   "metadata": {
    "colab": {
     "autoexec": {
      "startup": false,
      "wait_interval": 0
     },
     "base_uri": "https://localhost:8080/",
     "height": 279
    },
    "colab_type": "code",
    "executionInfo": {
     "elapsed": 1349,
     "status": "ok",
     "timestamp": 1531119193459,
     "user": {
      "displayName": "Roman Riazantsev",
      "photoUrl": "//lh6.googleusercontent.com/-0kCcRWpuTEA/AAAAAAAAAAI/AAAAAAAAUeA/dAv5nJYJPL8/s50-c-k-no/photo.jpg",
      "userId": "118315922036022511446"
     },
     "user_tz": -180
    },
    "id": "52fb9vEMzHrN",
    "outputId": "64f97585-8007-41a3-d3cb-59669fcca619"
   },
   "outputs": [
    {
     "data": {
      "image/png": "[encoded data removed]",
      "text/plain": [
       "<matplotlib.figure.Figure at 0x7fb4ac880ac8>"
      ]
     },
     "metadata": {
      "tags": []
     },
     "output_type": "display_data"
    }
   ],
   "source": [
    "experiments_with_batch = results['rates']\n",
    "        \n",
    "fig = plt.figure()\n",
    "ax = plt.axes()\n",
    "\n",
    "for experiment in experiments_with_batch:\n",
    "     ax.plot(experiment['epoch'], experiment['accuracy'], label=experiment['learning_rate']);\n",
    "\n",
    "plt.ylabel('accuracy')\n",
    "plt.xlabel('epoch')\n",
    "plt.legend()\n",
    "plt.show()"
   ]
  }
 ],
 "metadata": {
  "accelerator": "GPU",
  "colab": {
   "default_view": {},
   "name": "FINAL.ipynb",
   "provenance": [],
   "version": "0.3.2",
   "views": {}
  },
  "kernelspec": {
   "display_name": "Python 3",
   "language": "python",
   "name": "python3"
  },
  "language_info": {
   "codemirror_mode": {
    "name": "ipython",
    "version": 3
   },
   "file_extension": ".py",
   "mimetype": "text/x-python",
   "name": "python",
   "nbconvert_exporter": "python",
   "pygments_lexer": "ipython3",
   "version": "3.6.5"
  }
 },
 "nbformat": 4,
 "nbformat_minor": 1
}
