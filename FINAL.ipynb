{
  "nbformat": 4,
  "nbformat_minor": 0,
  "metadata": {
    "colab": {
      "name": "FINAL.ipynb",
      "version": "0.3.2",
      "views": {},
      "default_view": {},
      "provenance": []
    },
    "kernelspec": {
      "name": "python3",
      "display_name": "Python 3"
    },
    "accelerator": "GPU"
  },
  "cells": [
    {
      "metadata": {
        "id": "Nr9_Q2cTI4ki",
        "colab_type": "code",
        "colab": {
          "autoexec": {
            "startup": false,
            "wait_interval": 0
          }
        }
      },
      "cell_type": "code",
      "source": [
        "# TASKS\n",
        "#\n",
        "# 1: nn as a class\n",
        "# 2: Forward pass\n",
        "# 3: Back\n",
        "# 4: Pipeline\n",
        "# 5: Evaluation\n",
        "\n",
        "%matplotlib inline\n",
        "import matplotlib.pyplot as plt\n",
        "import pandas\n",
        "import numpy as np\n",
        "from sklearn.model_selection import train_test_split\n",
        "from sklearn.metrics import log_loss\n",
        "\n",
        "url = \"https://archive.ics.uci.edu/ml/machine-learning-databases/abalone/abalone.data\"\n",
        "dataframe = pandas.read_csv(url, header=-1)"
      ],
      "execution_count": 0,
      "outputs": []
    },
    {
      "metadata": {
        "id": "kxDykLVxTfZ7",
        "colab_type": "code",
        "colab": {
          "autoexec": {
            "startup": false,
            "wait_interval": 0
          }
        }
      },
      "cell_type": "code",
      "source": [
        "#ONE-HOT ENCODING\n",
        "dumm = pandas.get_dummies(dataframe, prefix=None, prefix_sep='_', dummy_na=False, columns=[0,8], sparse=False, drop_first=False)\n",
        "\n",
        "y = dumm.as_matrix(columns=dumm.columns[-28:])\n",
        "X = dumm.as_matrix(columns=dumm.columns[:-28])\n",
        "\n",
        "X_train, X_test, y_train, y_test = train_test_split(X, y, test_size=0.33, random_state=42)"
      ],
      "execution_count": 0,
      "outputs": []
    },
    {
      "metadata": {
        "id": "LEkxzzeuTj5g",
        "colab_type": "code",
        "colab": {
          "autoexec": {
            "startup": false,
            "wait_interval": 0
          }
        }
      },
      "cell_type": "code",
      "source": [
        "#ONE-HOT ENCODING\n",
        "dumm = pandas.get_dummies(dataframe, prefix=None, prefix_sep='_', dummy_na=False, columns=[0,8], sparse=False, drop_first=False)\n",
        "\n",
        "y = dumm.as_matrix(columns=dumm.columns[-28:])\n",
        "X = dumm.as_matrix(columns=dumm.columns[:-28])\n",
        "\n",
        "X_train, X_test, y_train, y_test = train_test_split(X, y, test_size=0.33, random_state=42)\n",
        "\n",
        "\n",
        "# FUNCTIONS FOR FORWARD PASS\n",
        "def ReLU(x):\n",
        "    return x*(x > 0)\n",
        "\n",
        "\n",
        "def softmax(x):\n",
        "    e_x = np.exp(x - np.max(x))\n",
        "    return e_x / e_x.sum(axis=0)\n",
        "\n",
        "\n",
        "# FUNCTIONS FOR BACKPROP\n",
        "def differentiate_ReLU(x):\n",
        "    x[x <= 0] = 0\n",
        "    x[x > 0] = 1\n",
        "    return x\n",
        "\n",
        "def differentiate_tanh(a_1):\n",
        "    return 1 - np.tanh(a_1)**2\n",
        "\n",
        "\n",
        "class NeuralNetwork:\n",
        "    def __init__(self, neurons_first, neurons_second, x, y):\n",
        "        np.random.seed(4)\n",
        "        \n",
        "        self.W_1 = np.random.rand(neurons_first,x.shape[1]).astype(np.float32) * np.sqrt(2.0/(neurons_first))\n",
        "        self.W_2 = np.random.rand(neurons_second,neurons_first).astype(np.float32) * np.sqrt(2.0/(neurons_second))\n",
        "        self.W_out = np.random.rand(y.shape[1],neurons_second).astype(np.float32) * np.sqrt(2.0/(y.shape[1]))\n",
        "        self.W_ResNet = np.random.rand(y.shape[1],x.shape[1]) * np.sqrt(2.0/(y.shape[1]))\n",
        "        \n",
        "        self.b_1 = np.zeros((neurons_first,1)).astype(np.float32)\n",
        "        self.b_2 = np.zeros((neurons_second,1)).astype(np.float32)\n",
        "        self.b_out = np.zeros((y.shape[1],1)).astype(np.float32)\n",
        "        \n",
        "            \n",
        "\n",
        "def feedforward(network, x, y):\n",
        "        forward_path = dict()\n",
        "        \n",
        "        forward_path['x'] = x.T\n",
        "        forward_path['y'] = y.T\n",
        "        \n",
        "        forward_path['a_1'] = np.add(network.W_1.dot(forward_path['x']), network.b_1)\n",
        "        forward_path['z_1'] = np.tanh(forward_path['a_1'])\n",
        "        forward_path['a_2'] = np.add(network.W_2.dot(forward_path['z_1']), network.b_2)\n",
        "        forward_path['z_2'] = ReLU(forward_path['a_2'])\n",
        "        forward_path['a_out_1'] = network.W_out.dot(forward_path['z_2'])\n",
        "        forward_path['a_out_2'] = network.W_ResNet.dot(forward_path['x'])\n",
        "        forward_path['a_out'] = np.add(np.add(forward_path['a_out_1'], forward_path['a_out_2']), network.b_out)\n",
        "        forward_path['z_out'] = softmax(forward_path['a_out'])\n",
        "        \n",
        "        return forward_path\n",
        "        \n",
        "        \n",
        "def backward_path(network, forward_path, learning_rate):\n",
        "        gradient = dict()\n",
        "        \n",
        "        derivative_of_tanh = differentiate_tanh(forward_path['a_1'])\n",
        "        derivative_of_ReLU = differentiate_ReLU(forward_path['a_2'])\n",
        " \n",
        "        # application of the chain rule to find derivative of the loss function with respect to weights2 and weights1\n",
        "        delta_out = forward_path['y'] - forward_path['z_out'] \n",
        "        \n",
        "        first_mul = network.W_out.T.dot(delta_out)\n",
        "        delta_2 = np.multiply(derivative_of_ReLU, first_mul)\n",
        "        delta_1 = np.multiply(derivative_of_tanh, network.W_2.T.dot(delta_2))\n",
        "            \n",
        "        dW_ResNet = delta_out.dot(forward_path['x'].T)\n",
        "        dW_out = delta_out.dot(forward_path['z_2'].T)\n",
        "        dW_2 = delta_2.dot(forward_path['z_1'].T)\n",
        "        dW_1 = delta_1.dot(forward_path['x'].T)\n",
        "        \n",
        "        network.W_1 += learning_rate *  dW_1\n",
        "        network.W_2 += learning_rate * dW_2\n",
        "        network.W_out += learning_rate * dW_out\n",
        "        network.W_ResNet += learning_rate * dW_ResNet\n",
        "        \n",
        "        network.b_1 += learning_rate * np.expand_dims(np.mean(delta_1, axis=1), axis=1)\n",
        "        network.b_2 += learning_rate * np.expand_dims(np.mean(delta_2, axis=1), axis=1)\n",
        "        network.b_out += learning_rate * np.expand_dims(np.mean(delta_out, axis=1), axis=1)\n",
        "\n",
        "        \n",
        "def train(epochs, batch_size, learning_rate):\n",
        "#     X_train, X_test, y_train, y_test\n",
        "    \n",
        "    evaluation = dict()\n",
        "    evaluation['batch_size'] = \"batch size: {}\".format(batch_size)\n",
        "    evaluation['learning_rate'] = \"learning rate: {}\".format(learning_rate)\n",
        "    evaluation['epoch'] = []\n",
        "    evaluation['log_loss'] = []\n",
        "    \n",
        "    for epoch in range(epochs):\n",
        "        evaluation['epoch'].append(epoch)\n",
        "        current = 0\n",
        "        for i in range(len(X_train)//batch_size):\n",
        "            forward_path = feedforward(nn, X_train[current:current+batch_size], y_train[current:current+batch_size])\n",
        "            backward_path(nn, forward_path, learning_rate)\n",
        "            current += batch_size\n",
        "            \n",
        "        if(len(X_train)%batch_size != 0):\n",
        "            k = len(X_train)%batch_size\n",
        "     \n",
        "            forward_path = feedforward(nn, X_train[-k:], y_train[-k:])\n",
        "            backward_path(nn, forward_path, learning_rate)\n",
        "           \n",
        "        forward_path = feedforward(nn, X_test, y_test)\n",
        "        evaluation['log_loss'].append(log_loss(y_test, forward_path['z_out'].T))\n",
        "      \n",
        "    return evaluation\n",
        "\n",
        "\n",
        "def evaluate_model(epochs):\n",
        "    batches = [20,30,40,60]\n",
        "    learning_rates = [0.0001,0.001,0.005,0.002]\n",
        "    \n",
        "    results = dict()\n",
        "    \n",
        "    results['batches'] = []\n",
        "    results['rates'] = []\n",
        "    \n",
        "    for batch in batches:\n",
        "        results['batches'].append(train(epochs, batch, 0.01))\n",
        "        \n",
        "    for rate in learning_rates:\n",
        "        results['rates'].append(train(epochs, 40, rate))\n",
        "        \n",
        "    return results\n",
        "    "
      ],
      "execution_count": 0,
      "outputs": []
    },
    {
      "metadata": {
        "id": "AIJRFvcwkvTY",
        "colab_type": "code",
        "colab": {
          "autoexec": {
            "startup": false,
            "wait_interval": 0
          },
          "base_uri": "https://localhost:8080/"
        },
        "outputId": "74aef5f2-16cd-4078-97d7-54e1aebf5507"
      },
      "cell_type": "code",
      "source": [
        "experiments_with_batch = evaluate_model(5)['batches']\n",
        "        \n",
        "fig = plt.figure()\n",
        "ax = plt.axes()\n",
        "\n",
        "for experiment in experiments_with_batch:\n",
        "     ax.plot(experiment['epoch'], experiment['log_loss'], label=experiment['batch_size']);\n",
        "\n",
        "plt.ylabel('log loss')\n",
        "plt.xlabel('epoch')\n",
        "plt.legend()\n",
        "plt.show()"
      ],
      "execution_count": 0,
      "outputs": [
        {
          "output_type": "display_data",
          "data": {
            "image/png": "[encoded data removed]",
            "text/plain": [
              "<matplotlib.figure.Figure at 0x7fe6be81d438>"
            ]
          },
          "metadata": {
            "tags": []
          }
        }
      ]
    },
    {
      "metadata": {
        "id": "C3LGCDW0oeMc",
        "colab_type": "code",
        "colab": {
          "autoexec": {
            "startup": false,
            "wait_interval": 0
          },
          "base_uri": "https://localhost:8080/",
          "height": 351
        },
        "outputId": "08d56d4f-6a10-41fd-aff1-e05d3f92176e",
        "executionInfo": {
          "status": "ok",
          "timestamp": 1531116593429,
          "user_tz": -180,
          "elapsed": 3264,
          "user": {
            "displayName": "Roman Riazantsev",
            "photoUrl": "//lh6.googleusercontent.com/-0kCcRWpuTEA/AAAAAAAAAAI/AAAAAAAAUeA/dAv5nJYJPL8/s50-c-k-no/photo.jpg",
            "userId": "118315922036022511446"
          }
        }
      },
      "cell_type": "code",
      "source": [
        "experiments_with_rates = evaluate_model(5)['rates']\n",
        "        \n",
        "fig = plt.figure()\n",
        "ax = plt.axes()\n",
        "\n",
        "for experiment in experiments_with_rates:\n",
        "    ax.plot(experiment['epoch'], experiment['log_loss'], label=experiment['learning_rate']);\n",
        "\n",
        "plt.ylabel('log loss')\n",
        "plt.xlabel('epoch')\n",
        "plt.legend()\n",
        "plt.show()"
      ],
      "execution_count": 103,
      "outputs": [
        {
          "output_type": "stream",
          "text": [
            "[1.9896219208664256, 1.989372482908867, 1.9891791352704926, 1.9890298457557534, 1.9889151539312566]\n",
            "[1.9886114874109777, 1.9886046623011928, 1.9886057376252781, 1.9885978237158222, 1.98858640741589]\n",
            "[1.988554899099885, 1.9885588991380956, 1.9885436229220574, 1.9885271752728366, 1.9885116877029583]\n",
            "[1.9884044603517164, 1.9884041971186042, 1.988391897751257, 1.9883801604271858, 1.988370127873535]\n"
          ],
          "name": "stdout"
        },
        {
          "output_type": "display_data",
          "data": {
            "image/png": "[encoded data removed]",
            "text/plain": [
              "<matplotlib.figure.Figure at 0x7fe6bec28b70>"
            ]
          },
          "metadata": {
            "tags": []
          }
        }
      ]
    },
    {
      "metadata": {
        "id": "rDpTynCnyIu7",
        "colab_type": "code",
        "colab": {
          "autoexec": {
            "startup": false,
            "wait_interval": 0
          }
        }
      },
      "cell_type": "code",
      "source": [
        ""
      ],
      "execution_count": 0,
      "outputs": []
    }
  ]
}