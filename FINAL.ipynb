{
  "nbformat": 4,
  "nbformat_minor": 0,
  "metadata": {
    "colab": {
      "name": "FINAL.ipynb",
      "version": "0.3.2",
      "views": {},
      "default_view": {},
      "provenance": []
    },
    "kernelspec": {
      "name": "python3",
      "display_name": "Python 3"
    },
    "accelerator": "GPU"
  },
  "cells": [
    {
      "metadata": {
        "id": "Nr9_Q2cTI4ki",
        "colab_type": "code",
        "colab": {
          "autoexec": {
            "startup": false,
            "wait_interval": 0
          }
        }
      },
      "cell_type": "code",
      "source": [
        "# TASKS\n",
        "#\n",
        "# 1: nn as a class\n",
        "# 2: Forward pass\n",
        "# 3: Back\n",
        "# 4: Pipeline\n",
        "# 5: Evaluation\n",
        "\n",
        "%matplotlib inline\n",
        "import pandas\n",
        "import numpy as np\n",
        "from sklearn.model_selection import train_test_split\n",
        "from sklearn.metrics import log_loss\n",
        "\n",
        "url = \"https://archive.ics.uci.edu/ml/machine-learning-databases/abalone/abalone.data\"\n",
        "dataframe = pandas.read_csv(url, header=-1)\n",
        "\n",
        "#ONE-HOT ENCODING\n",
        "dumm = pandas.get_dummies(dataframe, prefix=None, prefix_sep='_', dummy_na=False, columns=[0,8], sparse=False, drop_first=False)\n",
        "\n",
        "y = dumm.as_matrix(columns=dumm.columns[-28:])\n",
        "X = dumm.as_matrix(columns=dumm.columns[:-28])\n",
        "\n",
        "X_train, X_test, y_train, y_test = train_test_split(X, y, test_size=0.33, random_state=42)\n",
        "\n",
        "\n",
        "# FUNCTIONS FOR FORWARD PASS\n",
        "def ReLU(x):\n",
        "    return x*(x > 0)\n",
        "\n",
        "\n",
        "def softmax(x):\n",
        "    e_x = np.exp(x - np.max(x))\n",
        "    return e_x / e_x.sum(axis=0)\n",
        "\n",
        "\n",
        "# FUNCTIONS FOR BACKPROP\n",
        "def differentiate_ReLU(x):\n",
        "    x[x <= 0] = 0\n",
        "    x[x > 0] = 1\n",
        "    return x\n",
        "\n",
        "def differentiate_tanh(a_1):\n",
        "    return 1 - np.tanh(a_1)**2\n",
        "\n",
        "\n",
        "class NeuralNetwork:\n",
        "    def __init__(self, neurons, x, y):\n",
        "        np.random.seed(4)\n",
        "        \n",
        "        self.W_1 = np.random.rand(neurons,x.shape[1]).astype(np.float32) * np.sqrt(2.0/(neurons))\n",
        "        self.W_2 = np.random.rand(neurons,neurons).astype(np.float32) * np.sqrt(2.0/(neurons))\n",
        "        self.W_out = np.random.rand(y.shape[1],neurons).astype(np.float32) * np.sqrt(2.0/(y.shape[1]))\n",
        "        self.W_ResNet = np.random.rand(y.shape[1],x.shape[1]) * np.sqrt(2.0/(y.shape[1]))\n",
        "        \n",
        "        self.b_1 = np.zeros((neurons,1)).astype(np.float32)\n",
        "        self.b_2 = np.zeros((neurons,1)).astype(np.float32)\n",
        "        self.b_out = np.zeros((y.shape[1],1)).astype(np.float32)\n",
        "            \n",
        "\n",
        "def feedforward(network, x, y):\n",
        "        forward_path = dict()\n",
        "        \n",
        "        forward_path['x'] = x.T\n",
        "        forward_path['y'] = y.T\n",
        "        \n",
        "        forward_path['a_1'] = np.add(network.W_1.dot(forward_path['x']), network.b_1)\n",
        "        forward_path['z_1'] = np.tanh(forward_path['a_1'])\n",
        "        forward_path['a_2'] = np.add(network.W_2.dot(forward_path['z_1']), network.b_2)\n",
        "        forward_path['z_2'] = ReLU(forward_path['a_2'])\n",
        "        forward_path['a_out_1'] = network.W_out.dot(forward_path['z_2'])\n",
        "        forward_path['a_out_2'] = network.W_ResNet.dot(forward_path['x'])\n",
        "        forward_path['a_out'] = np.add(np.add(forward_path['a_out_1'], forward_path['a_out_2']), network.b_out)\n",
        "        forward_path['z_out'] = softmax(forward_path['a_out'])\n",
        "        \n",
        "        return forward_path\n",
        "        \n",
        "        \n",
        "def backward_path(network, forward_path, learning_rate):\n",
        "        gradient = dict()\n",
        "        \n",
        "        derivative_of_tanh = differentiate_tanh(forward_path['a_1'])\n",
        "        derivative_of_ReLU = differentiate_ReLU(forward_path['a_2'])\n",
        " \n",
        "        # application of the chain rule to find derivative of the loss function with respect to weights2 and weights1\n",
        "        delta_out = forward_path['y'] - forward_path['z_out'] \n",
        "        \n",
        "        first_mul = network.W_out.T.dot(delta_out)\n",
        "        delta_2 = np.multiply(derivative_of_ReLU, first_mul)\n",
        "        delta_1 = np.multiply(derivative_of_tanh, network.W_2.T.dot(delta_2))\n",
        "            \n",
        "        dW_ResNet = delta_out.dot(forward_path['x'].T)\n",
        "        dW_out = delta_out.dot(forward_path['z_2'].T)\n",
        "        dW_2 = delta_2.dot(forward_path['z_1'].T)\n",
        "        dW_1 = delta_1.dot(forward_path['x'].T)\n",
        "        \n",
        "        network.W_1 += learning_rate *  dW_1\n",
        "        network.W_2 += learning_rate * dW_2\n",
        "        network.W_out += learning_rate * dW_out\n",
        "        network.W_ResNet += learning_rate * dW_ResNet\n",
        "        \n",
        "        network.b_1 += learning_rate * np.expand_dims(np.mean(delta_1, axis=1), axis=1)\n",
        "        network.b_2 += learning_rate * np.expand_dims(np.mean(delta_2, axis=1), axis=1)\n",
        "        network.b_out += learning_rate * np.expand_dims(np.mean(delta_out, axis=1), axis=1)\n",
        "\n",
        "# PIPELINE GONNA BE HERE\n",
        "\n",
        "# def train(self, epochs, batch_size, X_train, X_test, y_train, y_test):\n",
        "#     for iteration in range(epochs):\n",
        "#         for i in range(len(X_train)//batch_size):\n",
        "#             forward_path = feedforward(nn, X_train[i:i+batch_size], y_train[i:i+batch_size])\n",
        "#             backward_path(nn, forward_path, 0.025)\n",
        "              \n",
        "#         if (iteration%(epochs//1000)==0):\n",
        "#             forward_path = feedforward(nn, X_test, y_test)\n",
        "#             print(log_loss(y_test, forward_path['z_out'].T))\n",
        "               \n",
        "    \n",
        "#     if(len(X_train)%batch_size != 0):\n",
        "#         k = len(X_train)%batch_size\n",
        "      \n",
        "#         forward_path = feedforward(nn, X_train[k:], y_train[k:])\n",
        "#         backward_path(nn, forward_path, 0.025)"
      ],
      "execution_count": 0,
      "outputs": []
    },
    {
      "metadata": {
        "id": "PnoijdAYI6Ot",
        "colab_type": "code",
        "colab": {
          "autoexec": {
            "startup": false,
            "wait_interval": 0
          },
          "base_uri": "https://localhost:8080/",
          "height": 586
        },
        "outputId": "6b026abf-a823-4888-ebee-7173550b1840",
        "executionInfo": {
          "status": "error",
          "timestamp": 1531092985049,
          "user_tz": -180,
          "elapsed": 3983,
          "user": {
            "displayName": "Roman Riazantsev",
            "photoUrl": "//lh6.googleusercontent.com/-0kCcRWpuTEA/AAAAAAAAAAI/AAAAAAAAUeA/dAv5nJYJPL8/s50-c-k-no/photo.jpg",
            "userId": "118315922036022511446"
          }
        }
      },
      "cell_type": "code",
      "source": [
        "nn = NeuralNetwork(64, X_train, y_train)\n",
        "nn.train(epochs = 20000,batch_size = 2,X_train = X_train, X_test = X_test, y_train = y_train, y_test = y_test)"
      ],
      "execution_count": 26,
      "outputs": [
        {
          "output_type": "stream",
          "text": [
            "2.233306210991124\n"
          ],
          "name": "stdout"
        },
        {
          "output_type": "error",
          "ename": "KeyboardInterrupt",
          "evalue": "ignored",
          "traceback": [
            "\u001b[0;31m---------------------------------------------------------------------------\u001b[0m",
            "\u001b[0;31mKeyboardInterrupt\u001b[0m                         Traceback (most recent call last)",
            "\u001b[0;32m<ipython-input-26-670fbcda3abb>\u001b[0m in \u001b[0;36m<module>\u001b[0;34m()\u001b[0m\n\u001b[1;32m      1\u001b[0m \u001b[0mnn\u001b[0m \u001b[0;34m=\u001b[0m \u001b[0mNeuralNetwork\u001b[0m\u001b[0;34m(\u001b[0m\u001b[0;36m64\u001b[0m\u001b[0;34m,\u001b[0m \u001b[0mX_train\u001b[0m\u001b[0;34m,\u001b[0m \u001b[0my_train\u001b[0m\u001b[0;34m)\u001b[0m\u001b[0;34m\u001b[0m\u001b[0m\n\u001b[0;32m----> 2\u001b[0;31m \u001b[0mnn\u001b[0m\u001b[0;34m.\u001b[0m\u001b[0mtrain\u001b[0m\u001b[0;34m(\u001b[0m\u001b[0mepochs\u001b[0m \u001b[0;34m=\u001b[0m \u001b[0;36m20000\u001b[0m\u001b[0;34m,\u001b[0m\u001b[0mbatch_size\u001b[0m \u001b[0;34m=\u001b[0m \u001b[0;36m2\u001b[0m\u001b[0;34m,\u001b[0m\u001b[0mX_train\u001b[0m \u001b[0;34m=\u001b[0m \u001b[0mX_train\u001b[0m\u001b[0;34m,\u001b[0m \u001b[0mX_test\u001b[0m \u001b[0;34m=\u001b[0m \u001b[0mX_test\u001b[0m\u001b[0;34m,\u001b[0m \u001b[0my_train\u001b[0m \u001b[0;34m=\u001b[0m \u001b[0my_train\u001b[0m\u001b[0;34m,\u001b[0m \u001b[0my_test\u001b[0m \u001b[0;34m=\u001b[0m \u001b[0my_test\u001b[0m\u001b[0;34m)\u001b[0m\u001b[0;34m\u001b[0m\u001b[0m\n\u001b[0m",
            "\u001b[0;32m<ipython-input-25-d9d1012d5e2c>\u001b[0m in \u001b[0;36mtrain\u001b[0;34m(self, epochs, batch_size, X_train, X_test, y_train, y_test)\u001b[0m\n\u001b[1;32m     54\u001b[0m         \u001b[0;32mfor\u001b[0m \u001b[0miteration\u001b[0m \u001b[0;32min\u001b[0m \u001b[0mrange\u001b[0m\u001b[0;34m(\u001b[0m\u001b[0mepochs\u001b[0m\u001b[0;34m)\u001b[0m\u001b[0;34m:\u001b[0m\u001b[0;34m\u001b[0m\u001b[0m\n\u001b[1;32m     55\u001b[0m             \u001b[0;32mfor\u001b[0m \u001b[0mi\u001b[0m \u001b[0;32min\u001b[0m \u001b[0mrange\u001b[0m\u001b[0;34m(\u001b[0m\u001b[0mlen\u001b[0m\u001b[0;34m(\u001b[0m\u001b[0mX_train\u001b[0m\u001b[0;34m)\u001b[0m\u001b[0;34m//\u001b[0m\u001b[0mbatch_size\u001b[0m\u001b[0;34m)\u001b[0m\u001b[0;34m:\u001b[0m\u001b[0;34m\u001b[0m\u001b[0m\n\u001b[0;32m---> 56\u001b[0;31m                 \u001b[0mforward_path\u001b[0m \u001b[0;34m=\u001b[0m \u001b[0mfeedforward\u001b[0m\u001b[0;34m(\u001b[0m\u001b[0mnn\u001b[0m\u001b[0;34m,\u001b[0m \u001b[0mX_train\u001b[0m\u001b[0;34m[\u001b[0m\u001b[0mi\u001b[0m\u001b[0;34m:\u001b[0m\u001b[0mi\u001b[0m\u001b[0;34m+\u001b[0m\u001b[0mbatch_size\u001b[0m\u001b[0;34m]\u001b[0m\u001b[0;34m,\u001b[0m \u001b[0my_train\u001b[0m\u001b[0;34m[\u001b[0m\u001b[0mi\u001b[0m\u001b[0;34m:\u001b[0m\u001b[0mi\u001b[0m\u001b[0;34m+\u001b[0m\u001b[0mbatch_size\u001b[0m\u001b[0;34m]\u001b[0m\u001b[0;34m)\u001b[0m\u001b[0;34m\u001b[0m\u001b[0m\n\u001b[0m\u001b[1;32m     57\u001b[0m                 \u001b[0mbackward_path\u001b[0m\u001b[0;34m(\u001b[0m\u001b[0mnn\u001b[0m\u001b[0;34m,\u001b[0m \u001b[0mforward_path\u001b[0m\u001b[0;34m,\u001b[0m \u001b[0;36m0.025\u001b[0m\u001b[0;34m)\u001b[0m\u001b[0;34m\u001b[0m\u001b[0m\n\u001b[1;32m     58\u001b[0m \u001b[0;31m#                 gradient = get_gradient(nn, hs)\u001b[0m\u001b[0;34m\u001b[0m\u001b[0;34m\u001b[0m\u001b[0m\n",
            "\u001b[0;32m<ipython-input-25-d9d1012d5e2c>\u001b[0m in \u001b[0;36mfeedforward\u001b[0;34m(network, x, y)\u001b[0m\n\u001b[1;32m     86\u001b[0m         \u001b[0mforward_path\u001b[0m\u001b[0;34m[\u001b[0m\u001b[0;34m'a_out_2'\u001b[0m\u001b[0;34m]\u001b[0m \u001b[0;34m=\u001b[0m \u001b[0mnetwork\u001b[0m\u001b[0;34m.\u001b[0m\u001b[0mW_ResNet\u001b[0m\u001b[0;34m.\u001b[0m\u001b[0mdot\u001b[0m\u001b[0;34m(\u001b[0m\u001b[0mforward_path\u001b[0m\u001b[0;34m[\u001b[0m\u001b[0;34m'x'\u001b[0m\u001b[0;34m]\u001b[0m\u001b[0;34m)\u001b[0m\u001b[0;34m\u001b[0m\u001b[0m\n\u001b[1;32m     87\u001b[0m         \u001b[0mforward_path\u001b[0m\u001b[0;34m[\u001b[0m\u001b[0;34m'a_out'\u001b[0m\u001b[0;34m]\u001b[0m \u001b[0;34m=\u001b[0m \u001b[0mnp\u001b[0m\u001b[0;34m.\u001b[0m\u001b[0madd\u001b[0m\u001b[0;34m(\u001b[0m\u001b[0mnp\u001b[0m\u001b[0;34m.\u001b[0m\u001b[0madd\u001b[0m\u001b[0;34m(\u001b[0m\u001b[0mforward_path\u001b[0m\u001b[0;34m[\u001b[0m\u001b[0;34m'a_out_1'\u001b[0m\u001b[0;34m]\u001b[0m\u001b[0;34m,\u001b[0m \u001b[0mforward_path\u001b[0m\u001b[0;34m[\u001b[0m\u001b[0;34m'a_out_2'\u001b[0m\u001b[0;34m]\u001b[0m\u001b[0;34m)\u001b[0m\u001b[0;34m,\u001b[0m \u001b[0mnetwork\u001b[0m\u001b[0;34m.\u001b[0m\u001b[0mb_out\u001b[0m\u001b[0;34m)\u001b[0m\u001b[0;34m\u001b[0m\u001b[0m\n\u001b[0;32m---> 88\u001b[0;31m         \u001b[0mforward_path\u001b[0m\u001b[0;34m[\u001b[0m\u001b[0;34m'z_out'\u001b[0m\u001b[0;34m]\u001b[0m \u001b[0;34m=\u001b[0m \u001b[0msoftmax\u001b[0m\u001b[0;34m(\u001b[0m\u001b[0mforward_path\u001b[0m\u001b[0;34m[\u001b[0m\u001b[0;34m'a_out'\u001b[0m\u001b[0;34m]\u001b[0m\u001b[0;34m)\u001b[0m\u001b[0;34m\u001b[0m\u001b[0m\n\u001b[0m\u001b[1;32m     89\u001b[0m \u001b[0;34m\u001b[0m\u001b[0m\n\u001b[1;32m     90\u001b[0m         \u001b[0;32mreturn\u001b[0m \u001b[0mforward_path\u001b[0m\u001b[0;34m\u001b[0m\u001b[0m\n",
            "\u001b[0;32m<ipython-input-25-d9d1012d5e2c>\u001b[0m in \u001b[0;36msoftmax\u001b[0;34m(x)\u001b[0m\n\u001b[1;32m     24\u001b[0m \u001b[0;34m\u001b[0m\u001b[0m\n\u001b[1;32m     25\u001b[0m \u001b[0;32mdef\u001b[0m \u001b[0msoftmax\u001b[0m\u001b[0;34m(\u001b[0m\u001b[0mx\u001b[0m\u001b[0;34m)\u001b[0m\u001b[0;34m:\u001b[0m\u001b[0;34m\u001b[0m\u001b[0m\n\u001b[0;32m---> 26\u001b[0;31m     \u001b[0me_x\u001b[0m \u001b[0;34m=\u001b[0m \u001b[0mnp\u001b[0m\u001b[0;34m.\u001b[0m\u001b[0mexp\u001b[0m\u001b[0;34m(\u001b[0m\u001b[0mx\u001b[0m \u001b[0;34m-\u001b[0m \u001b[0mnp\u001b[0m\u001b[0;34m.\u001b[0m\u001b[0mmax\u001b[0m\u001b[0;34m(\u001b[0m\u001b[0mx\u001b[0m\u001b[0;34m)\u001b[0m\u001b[0;34m)\u001b[0m\u001b[0;34m\u001b[0m\u001b[0m\n\u001b[0m\u001b[1;32m     27\u001b[0m     \u001b[0;32mreturn\u001b[0m \u001b[0me_x\u001b[0m \u001b[0;34m/\u001b[0m \u001b[0me_x\u001b[0m\u001b[0;34m.\u001b[0m\u001b[0msum\u001b[0m\u001b[0;34m(\u001b[0m\u001b[0maxis\u001b[0m\u001b[0;34m=\u001b[0m\u001b[0;36m0\u001b[0m\u001b[0;34m)\u001b[0m\u001b[0;34m\u001b[0m\u001b[0m\n\u001b[1;32m     28\u001b[0m \u001b[0;34m\u001b[0m\u001b[0m\n",
            "\u001b[0;31mKeyboardInterrupt\u001b[0m: "
          ]
        }
      ]
    },
    {
      "metadata": {
        "id": "Ahz_xH77LW7q",
        "colab_type": "code",
        "colab": {
          "autoexec": {
            "startup": false,
            "wait_interval": 0
          }
        }
      },
      "cell_type": "code",
      "source": [
        ""
      ],
      "execution_count": 0,
      "outputs": []
    }
  ]
}