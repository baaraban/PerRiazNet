{
  "nbformat": 4,
  "nbformat_minor": 0,
  "metadata": {
    "colab": {
      "name": "08_07_18.ipynb",
      "version": "0.3.2",
      "views": {},
      "default_view": {},
      "provenance": [
        {
          "file_id": "1L69rp2OA7exA20VHBq4tSIu7wPq36YvD",
          "timestamp": 1531037466745
        }
      ],
      "collapsed_sections": []
    },
    "kernelspec": {
      "name": "python3",
      "display_name": "Python 3"
    },
    "accelerator": "GPU"
  },
  "cells": [
    {
      "metadata": {
        "id": "NFsKzS1y9W4R",
        "colab_type": "code",
        "colab": {
          "autoexec": {
            "startup": false,
            "wait_interval": 0
          },
          "base_uri": "https://localhost:8080/",
          "height": 35
        },
        "outputId": "641b2358-5d00-4d8f-c6ba-dcef12578b51",
        "executionInfo": {
          "status": "ok",
          "timestamp": 1531038225873,
          "user_tz": -180,
          "elapsed": 2668,
          "user": {
            "displayName": "Roman Riazantsev",
            "photoUrl": "//lh6.googleusercontent.com/-0kCcRWpuTEA/AAAAAAAAAAI/AAAAAAAAUeA/dAv5nJYJPL8/s50-c-k-no/photo.jpg",
            "userId": "118315922036022511446"
          }
        }
      },
      "cell_type": "code",
      "source": [
        "!pip install tqdm"
      ],
      "execution_count": 24,
      "outputs": [
        {
          "output_type": "stream",
          "text": [
            "Requirement already satisfied: tqdm in /usr/local/lib/python3.6/dist-packages (4.23.4)\r\n"
          ],
          "name": "stdout"
        }
      ]
    },
    {
      "metadata": {
        "id": "hMrGlGDZ35gl",
        "colab_type": "code",
        "colab": {
          "autoexec": {
            "startup": false,
            "wait_interval": 0
          },
          "base_uri": "https://localhost:8080/",
          "height": 265
        },
        "outputId": "b24eaba0-4f22-4962-e03f-ed8799263650",
        "executionInfo": {
          "status": "ok",
          "timestamp": 1531038227068,
          "user_tz": -180,
          "elapsed": 1150,
          "user": {
            "displayName": "Roman Riazantsev",
            "photoUrl": "//lh6.googleusercontent.com/-0kCcRWpuTEA/AAAAAAAAAAI/AAAAAAAAUeA/dAv5nJYJPL8/s50-c-k-no/photo.jpg",
            "userId": "118315922036022511446"
          }
        }
      },
      "cell_type": "code",
      "source": [
        "%matplotlib inline\n",
        "import math\n",
        "import matplotlib.pyplot as plt\n",
        "import numpy as np\n",
        "from collections import defaultdict\n",
        "from sklearn.datasets.samples_generator import make_moons\n",
        "from sklearn.datasets.samples_generator import make_blobs\n",
        "from sklearn.preprocessing import OneHotEncoder\n",
        "from sklearn.model_selection import train_test_split\n",
        "from sklearn.metrics import log_loss\n",
        "from tqdm import tqdm\n",
        "\n",
        "\n",
        "# DATA FOR CLASSIFICATION\n",
        "np.random.seed(0)\n",
        "# X, y = make_blobs(n_samples=400, centers=2, n_features=2, cluster_std=0.1,random_state=0)\n",
        "X, y = make_moons(n_samples=400, shuffle=True, noise=None,random_state=0)\n",
        "plt.scatter(X[:,0], X[:,1], s=40, c=y, cmap=plt.cm.Spectral)\n",
        "\n",
        "reshaped_y = np.array(y).reshape(len(y),1)\n",
        "\n",
        "enc = OneHotEncoder()\n",
        "enc.fit(reshaped_y)\n",
        "encoded_y = enc.transform(reshaped_y).toarray()\n",
        "\n",
        "X_train, X_test, y_train, y_test = train_test_split(X, encoded_y, test_size=0.33, random_state=42)\n",
        "# --------------------------"
      ],
      "execution_count": 25,
      "outputs": [
        {
          "output_type": "display_data",
          "data": {
            "image/png": "[encoded data removed]",
            "text/plain": [
              "<matplotlib.figure.Figure at 0x7f6e544ec9e8>"
            ]
          },
          "metadata": {
            "tags": []
          }
        }
      ]
    },
    {
      "metadata": {
        "id": "xL8nR7Fx5E3V",
        "colab_type": "code",
        "colab": {
          "autoexec": {
            "startup": false,
            "wait_interval": 0
          }
        }
      },
      "cell_type": "code",
      "source": [
        "import numpy as np\n",
        "\n",
        "\n",
        "# FUNCTIONS FOR FORWARD PASS\n",
        "def ReLU(x):\n",
        "    y = []\n",
        "    for scalar in x:\n",
        "        y.append(scalar * (scalar > 0))\n",
        "    return np.array(y)\n",
        "\n",
        "\n",
        "def softmax(x):\n",
        "    e_x = np.exp(x - np.max(x))\n",
        "    out = e_x / e_x.sum()\n",
        "    return out\n",
        "\n",
        "\n",
        "def differentiate_ReLU(a_2):\n",
        "        if (a_2 >= 0):\n",
        "            return 1\n",
        "        else:\n",
        "            return 0\n",
        "\n",
        "def differentiate_tanh(a_1):\n",
        "    return 1 - np.tanh(a_1)**2"
      ],
      "execution_count": 0,
      "outputs": []
    },
    {
      "metadata": {
        "id": "1l6dTzwg5bzX",
        "colab_type": "code",
        "colab": {
          "autoexec": {
            "startup": false,
            "wait_interval": 0
          }
        }
      },
      "cell_type": "code",
      "source": [
        "class NeuralNetwork:\n",
        "    def __init__(self, x, y):\n",
        "        self.x = x\n",
        "        self.y = y\n",
        "        \n",
        "        np.random.seed(4)\n",
        "        self.W_1 = np.random.rand(2,2)\n",
        "        self.W_2 = np.random.rand(2,2)\n",
        "        self.W_out = np.random.rand(2,2)\n",
        "        self.W_ResNet = np.random.rand(2,2)\n",
        "        \n",
        "        self.b_1 = np.random.rand(2)\n",
        "        self.b_2 = np.random.rand(2)\n",
        "        self.b_out = np.random.rand(2)\n",
        "\n",
        "def feedforward(network, x, y):\n",
        "        forward_path = dict()\n",
        "        \n",
        "        forward_path['x'] = x\n",
        "        forward_path['y'] = y\n",
        "        \n",
        "        forward_path['a_1'] = np.add(network.W_1.dot(x), network.b_1)\n",
        "        forward_path['z_1'] = np.tanh(forward_path['a_1'])\n",
        "        forward_path['a_2'] = np.add(network.W_2.dot(forward_path['z_1']), network.b_2)\n",
        "        forward_path['z_2'] = ReLU(forward_path['a_2'])\n",
        "        forward_path['a_out_1'] = network.W_out.dot(forward_path['z_2'])\n",
        "        forward_path['a_out_2'] = network.W_ResNet.dot(x)\n",
        "        forward_path['a_out'] = np.add(np.add(forward_path['a_out_1'], forward_path['a_out_2']), network.b_out)\n",
        "        forward_path['z_out'] = softmax(forward_path['a_out'])\n",
        "        \n",
        "        return forward_path\n",
        "        \n",
        "        \n",
        "def get_gradient(network, hidden_state):\n",
        "        gradient = dict()\n",
        "        \n",
        "        derivative_of_tanh = np.vectorize(differentiate_tanh)(hidden_state['a_1'])\n",
        "        derivative_of_ReLU = np.vectorize(differentiate_ReLU)(hidden_state['a_2'])\n",
        " \n",
        "        # application of the chain rule to find derivative of the loss function with respect to weights2 and weights1\n",
        "        delta_out = hidden_state['y'] - hidden_state['z_out'] \n",
        "        \n",
        "        delta_2 = np.multiply(derivative_of_ReLU, network.W_out.T.dot(delta_out))\n",
        "        delta_1 = np.multiply(derivative_of_tanh, network.W_2.T.dot(delta_2))\n",
        "            \n",
        "        dW_ResNet = np.matrix(delta_out).T.dot(np.matrix(hidden_state['x']))\n",
        "        dW_out = np.matrix(delta_out).T.dot(np.matrix(hidden_state['z_2']))\n",
        "        dW_2 = np.matrix(delta_2).T.dot(np.matrix(hidden_state['z_1']))\n",
        "        dW_1 = np.matrix(delta_1).T.dot(np.matrix(hidden_state['x']))\n",
        "        \n",
        "        gradient['W_1'] = np.array(dW_1)\n",
        "        gradient['W_2'] = np.array(dW_2)\n",
        "        gradient['W_out'] = np.array(dW_out)\n",
        "        gradient['W_ResNet'] = np.array(dW_ResNet)\n",
        "        \n",
        "        gradient['b_1'] = delta_1\n",
        "        gradient['b_2'] = delta_2\n",
        "        gradient['b_out'] = delta_out\n",
        "        \n",
        "        return gradient\n",
        "    \n",
        "def update_neural_network(network, gradient, learning_rate = 0.02):\n",
        "    network.W_1 += learning_rate * gradient['W_1']\n",
        "    network.W_2 += learning_rate * gradient['W_2']\n",
        "    network.W_out += learning_rate * gradient['W_out']\n",
        "    network.W_ResNet += learning_rate * gradient['W_ResNet']\n",
        "        \n",
        "    network.b_1 += learning_rate * gradient['b_1']\n",
        "    network.b_2 += learning_rate * gradient['b_2']\n",
        "    network.b_out += learning_rate * gradient['b_out']\n",
        "    "
      ],
      "execution_count": 0,
      "outputs": []
    },
    {
      "metadata": {
        "id": "zms0p97oSeS4",
        "colab_type": "code",
        "colab": {
          "autoexec": {
            "startup": false,
            "wait_interval": 0
          },
          "base_uri": "https://localhost:8080/",
          "height": 784
        },
        "outputId": "b5efc2eb-05ff-4f5d-be19-9b74c959837a",
        "executionInfo": {
          "status": "error",
          "timestamp": 1531038570141,
          "user_tz": -180,
          "elapsed": 9970,
          "user": {
            "displayName": "Roman Riazantsev",
            "photoUrl": "//lh6.googleusercontent.com/-0kCcRWpuTEA/AAAAAAAAAAI/AAAAAAAAUeA/dAv5nJYJPL8/s50-c-k-no/photo.jpg",
            "userId": "118315922036022511446"
          }
        }
      },
      "cell_type": "code",
      "source": [
        "nn = NeuralNetwork(X_train, y_train)\n",
        "for iteration in range(1200):\n",
        "    for x, y in zip(X_train, y_train):\n",
        "        hs = feedforward(nn, x, y)\n",
        "        gradient = get_gradient(nn, hs)\n",
        "        update_neural_network(nn, gradient)\n",
        "        \n",
        "    if(iteration % 120 == 0):\n",
        "        hs = feedforward(nn, X_test[0], y_test[0])\n",
        "        print(log_loss(hs['y'], hs['z_out']))"
      ],
      "execution_count": 33,
      "outputs": [
        {
          "output_type": "stream",
          "text": [
            "0.23217194647701223\n",
            "0.015957242671828638\n"
          ],
          "name": "stdout"
        },
        {
          "output_type": "error",
          "ename": "KeyboardInterrupt",
          "evalue": "ignored",
          "traceback": [
            "\u001b[0;31m---------------------------------------------------------------------------\u001b[0m",
            "\u001b[0;31mKeyboardInterrupt\u001b[0m                         Traceback (most recent call last)",
            "\u001b[0;32m<ipython-input-33-d7a012763cc6>\u001b[0m in \u001b[0;36m<module>\u001b[0;34m()\u001b[0m\n\u001b[1;32m      3\u001b[0m     \u001b[0;32mfor\u001b[0m \u001b[0mx\u001b[0m\u001b[0;34m,\u001b[0m \u001b[0my\u001b[0m \u001b[0;32min\u001b[0m \u001b[0mzip\u001b[0m\u001b[0;34m(\u001b[0m\u001b[0mX_train\u001b[0m\u001b[0;34m,\u001b[0m \u001b[0my_train\u001b[0m\u001b[0;34m)\u001b[0m\u001b[0;34m:\u001b[0m\u001b[0;34m\u001b[0m\u001b[0m\n\u001b[1;32m      4\u001b[0m         \u001b[0mhs\u001b[0m \u001b[0;34m=\u001b[0m \u001b[0mfeedforward\u001b[0m\u001b[0;34m(\u001b[0m\u001b[0mnn\u001b[0m\u001b[0;34m,\u001b[0m \u001b[0mx\u001b[0m\u001b[0;34m,\u001b[0m \u001b[0my\u001b[0m\u001b[0;34m)\u001b[0m\u001b[0;34m\u001b[0m\u001b[0m\n\u001b[0;32m----> 5\u001b[0;31m         \u001b[0mgradient\u001b[0m \u001b[0;34m=\u001b[0m \u001b[0mget_gradient\u001b[0m\u001b[0;34m(\u001b[0m\u001b[0mnn\u001b[0m\u001b[0;34m,\u001b[0m \u001b[0mhs\u001b[0m\u001b[0;34m)\u001b[0m\u001b[0;34m\u001b[0m\u001b[0m\n\u001b[0m\u001b[1;32m      6\u001b[0m         \u001b[0mupdate_neural_network\u001b[0m\u001b[0;34m(\u001b[0m\u001b[0mnn\u001b[0m\u001b[0;34m,\u001b[0m \u001b[0mgradient\u001b[0m\u001b[0;34m)\u001b[0m\u001b[0;34m\u001b[0m\u001b[0m\n\u001b[1;32m      7\u001b[0m \u001b[0;34m\u001b[0m\u001b[0m\n",
            "\u001b[0;32m<ipython-input-32-aebef0270fb4>\u001b[0m in \u001b[0;36mget_gradient\u001b[0;34m(network, hidden_state)\u001b[0m\n\u001b[1;32m     35\u001b[0m         \u001b[0mgradient\u001b[0m \u001b[0;34m=\u001b[0m \u001b[0mdict\u001b[0m\u001b[0;34m(\u001b[0m\u001b[0;34m)\u001b[0m\u001b[0;34m\u001b[0m\u001b[0m\n\u001b[1;32m     36\u001b[0m \u001b[0;34m\u001b[0m\u001b[0m\n\u001b[0;32m---> 37\u001b[0;31m         \u001b[0mderivative_of_tanh\u001b[0m \u001b[0;34m=\u001b[0m \u001b[0mnp\u001b[0m\u001b[0;34m.\u001b[0m\u001b[0mvectorize\u001b[0m\u001b[0;34m(\u001b[0m\u001b[0mdifferentiate_tanh\u001b[0m\u001b[0;34m)\u001b[0m\u001b[0;34m(\u001b[0m\u001b[0mhidden_state\u001b[0m\u001b[0;34m[\u001b[0m\u001b[0;34m'a_1'\u001b[0m\u001b[0;34m]\u001b[0m\u001b[0;34m)\u001b[0m\u001b[0;34m\u001b[0m\u001b[0m\n\u001b[0m\u001b[1;32m     38\u001b[0m         \u001b[0mderivative_of_ReLU\u001b[0m \u001b[0;34m=\u001b[0m \u001b[0mnp\u001b[0m\u001b[0;34m.\u001b[0m\u001b[0mvectorize\u001b[0m\u001b[0;34m(\u001b[0m\u001b[0mdifferentiate_ReLU\u001b[0m\u001b[0;34m)\u001b[0m\u001b[0;34m(\u001b[0m\u001b[0mhidden_state\u001b[0m\u001b[0;34m[\u001b[0m\u001b[0;34m'a_2'\u001b[0m\u001b[0;34m]\u001b[0m\u001b[0;34m)\u001b[0m\u001b[0;34m\u001b[0m\u001b[0m\n\u001b[1;32m     39\u001b[0m \u001b[0;34m\u001b[0m\u001b[0m\n",
            "\u001b[0;32m/usr/local/lib/python3.6/dist-packages/numpy/lib/function_base.py\u001b[0m in \u001b[0;36m__call__\u001b[0;34m(self, *args, **kwargs)\u001b[0m\n\u001b[1;32m   2753\u001b[0m             \u001b[0mvargs\u001b[0m\u001b[0;34m.\u001b[0m\u001b[0mextend\u001b[0m\u001b[0;34m(\u001b[0m\u001b[0;34m[\u001b[0m\u001b[0mkwargs\u001b[0m\u001b[0;34m[\u001b[0m\u001b[0m_n\u001b[0m\u001b[0;34m]\u001b[0m \u001b[0;32mfor\u001b[0m \u001b[0m_n\u001b[0m \u001b[0;32min\u001b[0m \u001b[0mnames\u001b[0m\u001b[0;34m]\u001b[0m\u001b[0;34m)\u001b[0m\u001b[0;34m\u001b[0m\u001b[0m\n\u001b[1;32m   2754\u001b[0m \u001b[0;34m\u001b[0m\u001b[0m\n\u001b[0;32m-> 2755\u001b[0;31m         \u001b[0;32mreturn\u001b[0m \u001b[0mself\u001b[0m\u001b[0;34m.\u001b[0m\u001b[0m_vectorize_call\u001b[0m\u001b[0;34m(\u001b[0m\u001b[0mfunc\u001b[0m\u001b[0;34m=\u001b[0m\u001b[0mfunc\u001b[0m\u001b[0;34m,\u001b[0m \u001b[0margs\u001b[0m\u001b[0;34m=\u001b[0m\u001b[0mvargs\u001b[0m\u001b[0;34m)\u001b[0m\u001b[0;34m\u001b[0m\u001b[0m\n\u001b[0m\u001b[1;32m   2756\u001b[0m \u001b[0;34m\u001b[0m\u001b[0m\n\u001b[1;32m   2757\u001b[0m     \u001b[0;32mdef\u001b[0m \u001b[0m_get_ufunc_and_otypes\u001b[0m\u001b[0;34m(\u001b[0m\u001b[0mself\u001b[0m\u001b[0;34m,\u001b[0m \u001b[0mfunc\u001b[0m\u001b[0;34m,\u001b[0m \u001b[0margs\u001b[0m\u001b[0;34m)\u001b[0m\u001b[0;34m:\u001b[0m\u001b[0;34m\u001b[0m\u001b[0m\n",
            "\u001b[0;32m/usr/local/lib/python3.6/dist-packages/numpy/lib/function_base.py\u001b[0m in \u001b[0;36m_vectorize_call\u001b[0;34m(self, func, args)\u001b[0m\n\u001b[1;32m   2823\u001b[0m             \u001b[0mres\u001b[0m \u001b[0;34m=\u001b[0m \u001b[0mfunc\u001b[0m\u001b[0;34m(\u001b[0m\u001b[0;34m)\u001b[0m\u001b[0;34m\u001b[0m\u001b[0m\n\u001b[1;32m   2824\u001b[0m         \u001b[0;32melse\u001b[0m\u001b[0;34m:\u001b[0m\u001b[0;34m\u001b[0m\u001b[0m\n\u001b[0;32m-> 2825\u001b[0;31m             \u001b[0mufunc\u001b[0m\u001b[0;34m,\u001b[0m \u001b[0motypes\u001b[0m \u001b[0;34m=\u001b[0m \u001b[0mself\u001b[0m\u001b[0;34m.\u001b[0m\u001b[0m_get_ufunc_and_otypes\u001b[0m\u001b[0;34m(\u001b[0m\u001b[0mfunc\u001b[0m\u001b[0;34m=\u001b[0m\u001b[0mfunc\u001b[0m\u001b[0;34m,\u001b[0m \u001b[0margs\u001b[0m\u001b[0;34m=\u001b[0m\u001b[0margs\u001b[0m\u001b[0;34m)\u001b[0m\u001b[0;34m\u001b[0m\u001b[0m\n\u001b[0m\u001b[1;32m   2826\u001b[0m \u001b[0;34m\u001b[0m\u001b[0m\n\u001b[1;32m   2827\u001b[0m             \u001b[0;31m# Convert args to object arrays first\u001b[0m\u001b[0;34m\u001b[0m\u001b[0;34m\u001b[0m\u001b[0m\n",
            "\u001b[0;32m/usr/local/lib/python3.6/dist-packages/numpy/lib/function_base.py\u001b[0m in \u001b[0;36m_get_ufunc_and_otypes\u001b[0;34m(self, func, args)\u001b[0m\n\u001b[1;32m   2783\u001b[0m \u001b[0;34m\u001b[0m\u001b[0m\n\u001b[1;32m   2784\u001b[0m             \u001b[0minputs\u001b[0m \u001b[0;34m=\u001b[0m \u001b[0;34m[\u001b[0m\u001b[0marg\u001b[0m\u001b[0;34m.\u001b[0m\u001b[0mflat\u001b[0m\u001b[0;34m[\u001b[0m\u001b[0;36m0\u001b[0m\u001b[0;34m]\u001b[0m \u001b[0;32mfor\u001b[0m \u001b[0marg\u001b[0m \u001b[0;32min\u001b[0m \u001b[0margs\u001b[0m\u001b[0;34m]\u001b[0m\u001b[0;34m\u001b[0m\u001b[0m\n\u001b[0;32m-> 2785\u001b[0;31m             \u001b[0moutputs\u001b[0m \u001b[0;34m=\u001b[0m \u001b[0mfunc\u001b[0m\u001b[0;34m(\u001b[0m\u001b[0;34m*\u001b[0m\u001b[0minputs\u001b[0m\u001b[0;34m)\u001b[0m\u001b[0;34m\u001b[0m\u001b[0m\n\u001b[0m\u001b[1;32m   2786\u001b[0m \u001b[0;34m\u001b[0m\u001b[0m\n\u001b[1;32m   2787\u001b[0m             \u001b[0;31m# Performance note: profiling indicates that -- for simple\u001b[0m\u001b[0;34m\u001b[0m\u001b[0;34m\u001b[0m\u001b[0m\n",
            "\u001b[0;31mKeyboardInterrupt\u001b[0m: "
          ]
        }
      ]
    },
    {
      "metadata": {
        "id": "-AeP_j3M8LfJ",
        "colab_type": "code",
        "colab": {
          "autoexec": {
            "startup": false,
            "wait_interval": 0
          },
          "base_uri": "https://localhost:8080/",
          "height": 35
        },
        "outputId": "c1119b0d-8ec5-40e4-e1d7-d39c55a1da7c",
        "executionInfo": {
          "status": "ok",
          "timestamp": 1531038303374,
          "user_tz": -180,
          "elapsed": 963,
          "user": {
            "displayName": "Roman Riazantsev",
            "photoUrl": "//lh6.googleusercontent.com/-0kCcRWpuTEA/AAAAAAAAAAI/AAAAAAAAUeA/dAv5nJYJPL8/s50-c-k-no/photo.jpg",
            "userId": "118315922036022511446"
          }
        }
      },
      "cell_type": "code",
      "source": [
        "def gradient_check(epsilon = 1e-4):\n",
        "    nn = NeuralNetwork(X_train, y_train)\n",
        "    hs = feedforward(nn, nn.x[0], nn.y[0])\n",
        "    gradient = get_gradient(nn, hs)\n",
        "    \n",
        "    nn_dumm = NeuralNetwork(X_train, y_train)\n",
        "    nn_dumm.W_out[0][0] += epsilon\n",
        "    hs_dumm = feedforward(nn_dumm, nn.x[0], nn.y[0])\n",
        "    \n",
        "    dE = (log_loss(hs_dumm['y'], hs_dumm['z_out']) - log_loss(hs['y'], hs['z_out']))\n",
        "    db_out_0 = epsilon\n",
        "    \n",
        "    gradient_dumm = dE/db_out_0\n",
        "\n",
        "    return gradient_dumm - gradient['W_out'][0][0]\n",
        "\n",
        "gradient_check()"
      ],
      "execution_count": 29,
      "outputs": [
        {
          "output_type": "execute_result",
          "data": {
            "text/plain": [
              "7.27662299526699e-07"
            ]
          },
          "metadata": {
            "tags": []
          },
          "execution_count": 29
        }
      ]
    },
    {
      "metadata": {
        "id": "6dn0WKnYAZSh",
        "colab_type": "code",
        "colab": {
          "autoexec": {
            "startup": false,
            "wait_interval": 0
          },
          "base_uri": "https://localhost:8080/",
          "height": 35
        },
        "outputId": "0c3cc47b-4e19-4a6f-d6ef-588c28afeea1",
        "executionInfo": {
          "status": "ok",
          "timestamp": 1531038304161,
          "user_tz": -180,
          "elapsed": 628,
          "user": {
            "displayName": "Roman Riazantsev",
            "photoUrl": "//lh6.googleusercontent.com/-0kCcRWpuTEA/AAAAAAAAAAI/AAAAAAAAUeA/dAv5nJYJPL8/s50-c-k-no/photo.jpg",
            "userId": "118315922036022511446"
          }
        }
      },
      "cell_type": "code",
      "source": [
        "def gradient_chec(epsilon = 1e-4):\n",
        "    nn = NeuralNetwork(X_train, y_train)\n",
        "    hs = feedforward(nn, nn.x[0], nn.y[0])\n",
        "    gradient = get_gradient(nn, hs)\n",
        "    \n",
        "    \n",
        "    diff = calc_df_da_1(hs['a_1'])[0]\n",
        "    \n",
        "\n",
        "    dE = (np.tanh(hs['a_1'][0]+epsilon) - np.tanh(hs['a_1'][0]))\n",
        "    diff_dumm = dE/epsilon\n",
        "    \n",
        "\n",
        "    return diff_dumm - diff\n",
        "\n",
        "gradient_chec()"
      ],
      "execution_count": 30,
      "outputs": [
        {
          "output_type": "execute_result",
          "data": {
            "text/plain": [
              "-1.3750111711674506e-05"
            ]
          },
          "metadata": {
            "tags": []
          },
          "execution_count": 30
        }
      ]
    },
    {
      "metadata": {
        "id": "FnO71R7m9cjZ",
        "colab_type": "code",
        "colab": {
          "autoexec": {
            "startup": false,
            "wait_interval": 0
          }
        }
      },
      "cell_type": "code",
      "source": [
        ""
      ],
      "execution_count": 0,
      "outputs": []
    }
  ]
}