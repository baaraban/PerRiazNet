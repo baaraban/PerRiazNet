{
  "nbformat": 4,
  "nbformat_minor": 0,
  "metadata": {
    "colab": {
      "name": "DL_HW2_sandbox2.ipynb",
      "version": "0.3.2",
      "views": {},
      "default_view": {},
      "provenance": []
    }
  },
  "cells": [
    {
      "metadata": {
        "id": "wDEG5716pWvf",
        "colab_type": "code",
        "colab": {
          "autoexec": {
            "startup": false,
            "wait_interval": 0
          },
          "base_uri": "https://localhost:8080/",
          "height": 265
        },
        "outputId": "223eb004-8578-4e0c-d308-39a58cc1cc74",
        "executionInfo": {
          "status": "ok",
          "timestamp": 1530192421265,
          "user_tz": -180,
          "elapsed": 1062,
          "user": {
            "displayName": "Roman Riazantsev",
            "photoUrl": "//lh6.googleusercontent.com/-0kCcRWpuTEA/AAAAAAAAAAI/AAAAAAAAUeA/dAv5nJYJPL8/s50-c-k-no/photo.jpg",
            "userId": "118315922036022511446"
          }
        }
      },
      "cell_type": "code",
      "source": [
        "%matplotlib inline\n",
        "import math\n",
        "import matplotlib.pyplot as plt\n",
        "import numpy as np\n",
        "from collections import defaultdict\n",
        "from sklearn.datasets.samples_generator import make_blobs\n",
        "from sklearn.preprocessing import OneHotEncoder\n",
        "from sklearn.model_selection import train_test_split\n",
        "\n",
        "# DATA FOR CLASSIFICATION\n",
        "np.random.seed(0)\n",
        "X, y = make_blobs(n_samples=150, centers=2, n_features=2, cluster_std=0.1,random_state=0)\n",
        "plt.scatter(X[:,0], X[:,1], s=40, c=y, cmap=plt.cm.Spectral)\n",
        "\n",
        "reshaped_y = np.array(y).reshape(len(y),1)\n",
        "\n",
        "enc = OneHotEncoder()\n",
        "enc.fit(reshaped_y)\n",
        "encoded_y = enc.transform(reshaped_y).toarray()\n",
        "\n",
        "X_train, X_test, y_train, y_test = train_test_split(X, encoded_y, test_size=0.33, random_state=42)\n",
        "# --------------------------"
      ],
      "execution_count": 5,
      "outputs": [
        {
          "output_type": "display_data",
          "data": {
            "image/png": "[encoded data removed]",
            "text/plain": [
              "<matplotlib.figure.Figure at 0x7f71608fd250>"
            ]
          },
          "metadata": {
            "tags": []
          }
        }
      ]
    },
    {
      "metadata": {
        "id": "ab01wUaEpLBY",
        "colab_type": "code",
        "colab": {
          "autoexec": {
            "startup": false,
            "wait_interval": 0
          },
          "base_uri": "https://localhost:8080/",
          "height": 269
        },
        "outputId": "d8a069e4-a0ec-418a-d506-7a085a93d363",
        "executionInfo": {
          "status": "ok",
          "timestamp": 1530192423083,
          "user_tz": -180,
          "elapsed": 714,
          "user": {
            "displayName": "Roman Riazantsev",
            "photoUrl": "//lh6.googleusercontent.com/-0kCcRWpuTEA/AAAAAAAAAAI/AAAAAAAAUeA/dAv5nJYJPL8/s50-c-k-no/photo.jpg",
            "userId": "118315922036022511446"
          }
        }
      },
      "cell_type": "code",
      "source": [
        "import numpy as np\n",
        "\n",
        "\n",
        "# FUNCTIONS FOR FORWARD PASS\n",
        "def ReLU(x):\n",
        "    y = []\n",
        "    for scalar in x:\n",
        "        y.append(scalar * (scalar > 0))\n",
        "    return np.array(y)\n",
        "\n",
        "\n",
        "def softmax(x):\n",
        "    e_x = np.exp(x - np.max(x))\n",
        "    out = e_x / e_x.sum()\n",
        "    return out\n",
        "\n",
        "\n",
        "def calc_dg_da_2(a_2):\n",
        "    dg_da_2 = []\n",
        "    \n",
        "    for ai in a_2:\n",
        "        if (ai >= 0):\n",
        "            dg_da_2.append(ai)\n",
        "        else:\n",
        "            dg_da_2.append(0)\n",
        "            \n",
        "    return dg_da_2\n",
        "\n",
        "\n",
        "def calc_df_da_1(a_1):\n",
        "    df_da_1 = []\n",
        "        \n",
        "    for ai in a_1:\n",
        "        df_da_1.append((1 - np.tanh(ai))**2)\n",
        "            \n",
        "    return df_da_1\n",
        "\n",
        "    \n",
        "#DERIVATIVES OF tanh():df/da1 & ReLU():dg/da2\n",
        "\n",
        "class NeuralNetwork:\n",
        "    def __init__(self, x, y):\n",
        "        self.x = x\n",
        "        self.y = y\n",
        "        self.output = np.zeros(self.y.shape)\n",
        "        \n",
        "        self.W_1 = np.random.rand(2,2)\n",
        "        self.W_2 = np.random.rand(2,2)\n",
        "        self.W_out = np.random.rand(2,2)\n",
        "        self.W_ResNet = np.random.rand(2,2)\n",
        "        \n",
        "        self.b_1 = np.random.rand(2,self.x.shape[1])\n",
        "        self.b_2 = np.random.rand(2,self.x.shape[1])\n",
        "        self.b_out = np.random.rand(2,self.x.shape[1])\n",
        "        self.b_ResNet = np.random.rand(2,self.x.shape[1])\n",
        "        \n",
        "\n",
        "    def feedforward(self):    \n",
        "        self.a_1 = np.add(self.W_1.dot(self.x), self.b_1)\n",
        "        self.z_1 = np.tanh(self.a_1)\n",
        "        self.a_2 = np.add(self.W_2.dot(self.z_1), self.b_2)\n",
        "        self.z_2 = ReLU(self.a_2)\n",
        "        self.a_out_1 = np.add(self.W_out.dot(self.z_2), self.b_out)\n",
        "        self.a_out_2 = np.add(self.W_ResNet.dot(self.x), self.b_ResNet)\n",
        "        self.a_out = np.add(self.a_out_1, self.a_out_2)\n",
        "        self.z_out = softmax(self.a_out)\n",
        "           \n",
        "        \n",
        "    def backprop(self):\n",
        "        df_da_1 = np.array(map(calc_df_da_1, self.a_1))\n",
        "        dg_da_2 = np.array(map(calc_dg_da_2, self.a_2))\n",
        "        \n",
        "        # application of the chain rule to find derivative of the loss function with respect to weights2 and weights1\n",
        "        delta_out = self.y - self.z_out    \n",
        "        \n",
        "        # I have no idea how to write this mess in clear matrix form\n",
        "        delta_2 = np.array([np.diag(dg_da_2i).dot(self.W_out.T).dot(delta_outi) for dg_da_2i, delta_outi in zip(dg_da_2.T, delta_out.T)]).T\n",
        "        delta_1 = np.array([np.diag(df_da_1i).dot(self.W_out.T).dot(delta_2i) for df_da_1i, delta_2i in zip(df_da_1.T, delta_2.T)]).T\n",
        "    \n",
        "        dW_ResNet = delta_out.dot(self.x.T)\n",
        "        dW_out = delta_out.dot(self.z_2.T)\n",
        "        dW_2 = delta_2.dot(self.z_1.T)\n",
        "        dW_1 = delta_1.dot(self.x.T)\n",
        "       \n",
        "        # update the weights with the derivative (slope) of the loss function        \n",
        "        self.W_1 += 0.01*dW_1\n",
        "        self.W_2 += 0.01*dW_2\n",
        "        self.W_out += 0.01*dW_out\n",
        "        self.W_ResNet += 0.01*dW_ResNet\n",
        "        \n",
        "        self.b_1 += 0.01*delta_1\n",
        "        self.b_2 += 0.01*delta_2\n",
        "        self.b_out += 0.01*delta_out\n",
        "        self.b_ResNet += 0.01*delta_out\n",
        "\n",
        "\n",
        "if __name__ == \"__main__\":\n",
        "    nn = NeuralNetwork(X_train.T, y_train.T)\n",
        "    \n",
        "\n",
        "    for i in range(150):\n",
        "        nn.feedforward()\n",
        "        nn.backprop()\n",
        "\n",
        "    print(nn.output)\n"
      ],
      "execution_count": 6,
      "outputs": [
        {
          "output_type": "stream",
          "text": [
            "[[0. 0. 0. 0. 0. 0. 0. 0. 0. 0. 0. 0. 0. 0. 0. 0. 0. 0. 0. 0. 0. 0. 0. 0.\n",
            "  0. 0. 0. 0. 0. 0. 0. 0. 0. 0. 0. 0. 0. 0. 0. 0. 0. 0. 0. 0. 0. 0. 0. 0.\n",
            "  0. 0. 0. 0. 0. 0. 0. 0. 0. 0. 0. 0. 0. 0. 0. 0. 0. 0. 0. 0. 0. 0. 0. 0.\n",
            "  0. 0. 0. 0. 0. 0. 0. 0. 0. 0. 0. 0. 0. 0. 0. 0. 0. 0. 0. 0. 0. 0. 0. 0.\n",
            "  0. 0. 0. 0.]\n",
            " [0. 0. 0. 0. 0. 0. 0. 0. 0. 0. 0. 0. 0. 0. 0. 0. 0. 0. 0. 0. 0. 0. 0. 0.\n",
            "  0. 0. 0. 0. 0. 0. 0. 0. 0. 0. 0. 0. 0. 0. 0. 0. 0. 0. 0. 0. 0. 0. 0. 0.\n",
            "  0. 0. 0. 0. 0. 0. 0. 0. 0. 0. 0. 0. 0. 0. 0. 0. 0. 0. 0. 0. 0. 0. 0. 0.\n",
            "  0. 0. 0. 0. 0. 0. 0. 0. 0. 0. 0. 0. 0. 0. 0. 0. 0. 0. 0. 0. 0. 0. 0. 0.\n",
            "  0. 0. 0. 0.]]\n"
          ],
          "name": "stdout"
        },
        {
          "output_type": "stream",
          "text": [
            "/usr/local/lib/python2.7/dist-packages/ipykernel_launcher.py:13: RuntimeWarning: invalid value encountered in subtract\n",
            "  del sys.path[0]\n",
            "/usr/local/lib/python2.7/dist-packages/ipykernel_launcher.py:8: RuntimeWarning: invalid value encountered in greater\n",
            "  \n"
          ],
          "name": "stderr"
        }
      ]
    },
    {
      "metadata": {
        "id": "9xpCG5Qt8KUc",
        "colab_type": "code",
        "colab": {
          "autoexec": {
            "startup": false,
            "wait_interval": 0
          },
          "base_uri": "https://localhost:8080/",
          "height": 35
        },
        "outputId": "676e1374-d133-4688-b7c6-e3ef66acf05b",
        "executionInfo": {
          "status": "ok",
          "timestamp": 1530192423682,
          "user_tz": -180,
          "elapsed": 477,
          "user": {
            "displayName": "Roman Riazantsev",
            "photoUrl": "//lh6.googleusercontent.com/-0kCcRWpuTEA/AAAAAAAAAAI/AAAAAAAAUeA/dAv5nJYJPL8/s50-c-k-no/photo.jpg",
            "userId": "118315922036022511446"
          }
        }
      },
      "cell_type": "code",
      "source": [
        "W_1 = np.random.rand(2,2)\n",
        "X_train.T\n",
        "W_1.dot(X_train.T).shape"
      ],
      "execution_count": 7,
      "outputs": [
        {
          "output_type": "execute_result",
          "data": {
            "text/plain": [
              "(2, 100)"
            ]
          },
          "metadata": {
            "tags": []
          },
          "execution_count": 7
        }
      ]
    },
    {
      "metadata": {
        "id": "g6Eimz1fzz4G",
        "colab_type": "code",
        "colab": {
          "autoexec": {
            "startup": false,
            "wait_interval": 0
          },
          "base_uri": "https://localhost:8080/",
          "height": 172
        },
        "outputId": "3ec81e40-6b61-46aa-e4e3-f236a1f3e149",
        "executionInfo": {
          "status": "error",
          "timestamp": 1530192424292,
          "user_tz": -180,
          "elapsed": 521,
          "user": {
            "displayName": "Roman Riazantsev",
            "photoUrl": "//lh6.googleusercontent.com/-0kCcRWpuTEA/AAAAAAAAAAI/AAAAAAAAUeA/dAv5nJYJPL8/s50-c-k-no/photo.jpg",
            "userId": "118315922036022511446"
          }
        }
      },
      "cell_type": "code",
      "source": [
        "dg_da_2"
      ],
      "execution_count": 8,
      "outputs": [
        {
          "output_type": "error",
          "ename": "NameError",
          "evalue": "ignored",
          "traceback": [
            "\u001b[0;31m\u001b[0m",
            "\u001b[0;31mNameError\u001b[0mTraceback (most recent call last)",
            "\u001b[0;32m<ipython-input-8-1c3e66933c15>\u001b[0m in \u001b[0;36m<module>\u001b[0;34m()\u001b[0m\n\u001b[0;32m----> 1\u001b[0;31m \u001b[0mdg_da_2\u001b[0m\u001b[0;34m\u001b[0m\u001b[0m\n\u001b[0m",
            "\u001b[0;31mNameError\u001b[0m: name 'dg_da_2' is not defined"
          ]
        }
      ]
    },
    {
      "metadata": {
        "id": "CaifvYY4Og_G",
        "colab_type": "code",
        "colab": {
          "autoexec": {
            "startup": false,
            "wait_interval": 0
          }
        }
      },
      "cell_type": "code",
      "source": [
        ""
      ],
      "execution_count": 0,
      "outputs": []
    }
  ]
}